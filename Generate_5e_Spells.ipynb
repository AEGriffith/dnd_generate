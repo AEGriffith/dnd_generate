{
  "nbformat": 4,
  "nbformat_minor": 0,
  "metadata": {
    "colab": {
      "name": "Generate_5e_Spells.ipynb",
      "provenance": [],
      "collapsed_sections": [],
      "include_colab_link": true
    },
    "kernelspec": {
      "name": "python3",
      "display_name": "Python 3"
    },
    "language_info": {
      "name": "python"
    },
    "accelerator": "GPU",
    "widgets": {
      "application/vnd.jupyter.widget-state+json": {
        "3e56605da4c144339728dd5d7ecc2c3d": {
          "model_module": "@jupyter-widgets/controls",
          "model_name": "HBoxModel",
          "model_module_version": "1.5.0",
          "state": {
            "_view_name": "HBoxView",
            "_dom_classes": [],
            "_model_name": "HBoxModel",
            "_view_module": "@jupyter-widgets/controls",
            "_model_module_version": "1.5.0",
            "_view_count": null,
            "_view_module_version": "1.5.0",
            "box_style": "",
            "layout": "IPY_MODEL_b7f1e4a581104dd9afe78db7c12cc678",
            "_model_module": "@jupyter-widgets/controls",
            "children": [
              "IPY_MODEL_2b8780391dee48548f3072df6b2c0907",
              "IPY_MODEL_91b595403d884480aab54b6328cd6a6e",
              "IPY_MODEL_4e868e00ba4a47b7a6deff3821d972de"
            ]
          }
        },
        "b7f1e4a581104dd9afe78db7c12cc678": {
          "model_module": "@jupyter-widgets/base",
          "model_name": "LayoutModel",
          "model_module_version": "1.2.0",
          "state": {
            "_view_name": "LayoutView",
            "grid_template_rows": null,
            "right": null,
            "justify_content": null,
            "_view_module": "@jupyter-widgets/base",
            "overflow": null,
            "_model_module_version": "1.2.0",
            "_view_count": null,
            "flex_flow": null,
            "width": null,
            "min_width": null,
            "border": null,
            "align_items": null,
            "bottom": null,
            "_model_module": "@jupyter-widgets/base",
            "top": null,
            "grid_column": null,
            "overflow_y": null,
            "overflow_x": null,
            "grid_auto_flow": null,
            "grid_area": null,
            "grid_template_columns": null,
            "flex": null,
            "_model_name": "LayoutModel",
            "justify_items": null,
            "grid_row": null,
            "max_height": null,
            "align_content": null,
            "visibility": null,
            "align_self": null,
            "height": null,
            "min_height": null,
            "padding": null,
            "grid_auto_rows": null,
            "grid_gap": null,
            "max_width": null,
            "order": null,
            "_view_module_version": "1.2.0",
            "grid_template_areas": null,
            "object_position": null,
            "object_fit": null,
            "grid_auto_columns": null,
            "margin": null,
            "display": null,
            "left": null
          }
        },
        "2b8780391dee48548f3072df6b2c0907": {
          "model_module": "@jupyter-widgets/controls",
          "model_name": "HTMLModel",
          "model_module_version": "1.5.0",
          "state": {
            "_view_name": "HTMLView",
            "style": "IPY_MODEL_b1d4da7015e1427f99140537027d5b61",
            "_dom_classes": [],
            "description": "",
            "_model_name": "HTMLModel",
            "placeholder": "​",
            "_view_module": "@jupyter-widgets/controls",
            "_model_module_version": "1.5.0",
            "value": "Downloading: 100%",
            "_view_count": null,
            "_view_module_version": "1.5.0",
            "description_tooltip": null,
            "_model_module": "@jupyter-widgets/controls",
            "layout": "IPY_MODEL_b7cfa60c422346479118c15a7be6d70d"
          }
        },
        "91b595403d884480aab54b6328cd6a6e": {
          "model_module": "@jupyter-widgets/controls",
          "model_name": "FloatProgressModel",
          "model_module_version": "1.5.0",
          "state": {
            "_view_name": "ProgressView",
            "style": "IPY_MODEL_6f93cf8b53af44fca1b70b81d469f544",
            "_dom_classes": [],
            "description": "",
            "_model_name": "FloatProgressModel",
            "bar_style": "success",
            "max": 898822,
            "_view_module": "@jupyter-widgets/controls",
            "_model_module_version": "1.5.0",
            "value": 898822,
            "_view_count": null,
            "_view_module_version": "1.5.0",
            "orientation": "horizontal",
            "min": 0,
            "description_tooltip": null,
            "_model_module": "@jupyter-widgets/controls",
            "layout": "IPY_MODEL_b76d5b9cd8b54a418998d0b1d3045b43"
          }
        },
        "4e868e00ba4a47b7a6deff3821d972de": {
          "model_module": "@jupyter-widgets/controls",
          "model_name": "HTMLModel",
          "model_module_version": "1.5.0",
          "state": {
            "_view_name": "HTMLView",
            "style": "IPY_MODEL_c337a6ee6e434fb6bb6b551127450299",
            "_dom_classes": [],
            "description": "",
            "_model_name": "HTMLModel",
            "placeholder": "​",
            "_view_module": "@jupyter-widgets/controls",
            "_model_module_version": "1.5.0",
            "value": " 878k/878k [00:00&lt;00:00, 2.19MB/s]",
            "_view_count": null,
            "_view_module_version": "1.5.0",
            "description_tooltip": null,
            "_model_module": "@jupyter-widgets/controls",
            "layout": "IPY_MODEL_c4425a0a5fc0446e99a4b693db8108c5"
          }
        },
        "b1d4da7015e1427f99140537027d5b61": {
          "model_module": "@jupyter-widgets/controls",
          "model_name": "DescriptionStyleModel",
          "model_module_version": "1.5.0",
          "state": {
            "_view_name": "StyleView",
            "_model_name": "DescriptionStyleModel",
            "description_width": "",
            "_view_module": "@jupyter-widgets/base",
            "_model_module_version": "1.5.0",
            "_view_count": null,
            "_view_module_version": "1.2.0",
            "_model_module": "@jupyter-widgets/controls"
          }
        },
        "b7cfa60c422346479118c15a7be6d70d": {
          "model_module": "@jupyter-widgets/base",
          "model_name": "LayoutModel",
          "model_module_version": "1.2.0",
          "state": {
            "_view_name": "LayoutView",
            "grid_template_rows": null,
            "right": null,
            "justify_content": null,
            "_view_module": "@jupyter-widgets/base",
            "overflow": null,
            "_model_module_version": "1.2.0",
            "_view_count": null,
            "flex_flow": null,
            "width": null,
            "min_width": null,
            "border": null,
            "align_items": null,
            "bottom": null,
            "_model_module": "@jupyter-widgets/base",
            "top": null,
            "grid_column": null,
            "overflow_y": null,
            "overflow_x": null,
            "grid_auto_flow": null,
            "grid_area": null,
            "grid_template_columns": null,
            "flex": null,
            "_model_name": "LayoutModel",
            "justify_items": null,
            "grid_row": null,
            "max_height": null,
            "align_content": null,
            "visibility": null,
            "align_self": null,
            "height": null,
            "min_height": null,
            "padding": null,
            "grid_auto_rows": null,
            "grid_gap": null,
            "max_width": null,
            "order": null,
            "_view_module_version": "1.2.0",
            "grid_template_areas": null,
            "object_position": null,
            "object_fit": null,
            "grid_auto_columns": null,
            "margin": null,
            "display": null,
            "left": null
          }
        },
        "6f93cf8b53af44fca1b70b81d469f544": {
          "model_module": "@jupyter-widgets/controls",
          "model_name": "ProgressStyleModel",
          "model_module_version": "1.5.0",
          "state": {
            "_view_name": "StyleView",
            "_model_name": "ProgressStyleModel",
            "description_width": "",
            "_view_module": "@jupyter-widgets/base",
            "_model_module_version": "1.5.0",
            "_view_count": null,
            "_view_module_version": "1.2.0",
            "bar_color": null,
            "_model_module": "@jupyter-widgets/controls"
          }
        },
        "b76d5b9cd8b54a418998d0b1d3045b43": {
          "model_module": "@jupyter-widgets/base",
          "model_name": "LayoutModel",
          "model_module_version": "1.2.0",
          "state": {
            "_view_name": "LayoutView",
            "grid_template_rows": null,
            "right": null,
            "justify_content": null,
            "_view_module": "@jupyter-widgets/base",
            "overflow": null,
            "_model_module_version": "1.2.0",
            "_view_count": null,
            "flex_flow": null,
            "width": null,
            "min_width": null,
            "border": null,
            "align_items": null,
            "bottom": null,
            "_model_module": "@jupyter-widgets/base",
            "top": null,
            "grid_column": null,
            "overflow_y": null,
            "overflow_x": null,
            "grid_auto_flow": null,
            "grid_area": null,
            "grid_template_columns": null,
            "flex": null,
            "_model_name": "LayoutModel",
            "justify_items": null,
            "grid_row": null,
            "max_height": null,
            "align_content": null,
            "visibility": null,
            "align_self": null,
            "height": null,
            "min_height": null,
            "padding": null,
            "grid_auto_rows": null,
            "grid_gap": null,
            "max_width": null,
            "order": null,
            "_view_module_version": "1.2.0",
            "grid_template_areas": null,
            "object_position": null,
            "object_fit": null,
            "grid_auto_columns": null,
            "margin": null,
            "display": null,
            "left": null
          }
        },
        "c337a6ee6e434fb6bb6b551127450299": {
          "model_module": "@jupyter-widgets/controls",
          "model_name": "DescriptionStyleModel",
          "model_module_version": "1.5.0",
          "state": {
            "_view_name": "StyleView",
            "_model_name": "DescriptionStyleModel",
            "description_width": "",
            "_view_module": "@jupyter-widgets/base",
            "_model_module_version": "1.5.0",
            "_view_count": null,
            "_view_module_version": "1.2.0",
            "_model_module": "@jupyter-widgets/controls"
          }
        },
        "c4425a0a5fc0446e99a4b693db8108c5": {
          "model_module": "@jupyter-widgets/base",
          "model_name": "LayoutModel",
          "model_module_version": "1.2.0",
          "state": {
            "_view_name": "LayoutView",
            "grid_template_rows": null,
            "right": null,
            "justify_content": null,
            "_view_module": "@jupyter-widgets/base",
            "overflow": null,
            "_model_module_version": "1.2.0",
            "_view_count": null,
            "flex_flow": null,
            "width": null,
            "min_width": null,
            "border": null,
            "align_items": null,
            "bottom": null,
            "_model_module": "@jupyter-widgets/base",
            "top": null,
            "grid_column": null,
            "overflow_y": null,
            "overflow_x": null,
            "grid_auto_flow": null,
            "grid_area": null,
            "grid_template_columns": null,
            "flex": null,
            "_model_name": "LayoutModel",
            "justify_items": null,
            "grid_row": null,
            "max_height": null,
            "align_content": null,
            "visibility": null,
            "align_self": null,
            "height": null,
            "min_height": null,
            "padding": null,
            "grid_auto_rows": null,
            "grid_gap": null,
            "max_width": null,
            "order": null,
            "_view_module_version": "1.2.0",
            "grid_template_areas": null,
            "object_position": null,
            "object_fit": null,
            "grid_auto_columns": null,
            "margin": null,
            "display": null,
            "left": null
          }
        },
        "999a385e65634b2f90257d1eacd80fbe": {
          "model_module": "@jupyter-widgets/controls",
          "model_name": "HBoxModel",
          "model_module_version": "1.5.0",
          "state": {
            "_view_name": "HBoxView",
            "_dom_classes": [],
            "_model_name": "HBoxModel",
            "_view_module": "@jupyter-widgets/controls",
            "_model_module_version": "1.5.0",
            "_view_count": null,
            "_view_module_version": "1.5.0",
            "box_style": "",
            "layout": "IPY_MODEL_782eb08983a54f959c0656d4773e8250",
            "_model_module": "@jupyter-widgets/controls",
            "children": [
              "IPY_MODEL_70ffc2197ddb493b90b26a95ffabb4d8",
              "IPY_MODEL_20d67f1a838e4eff995062f54347afd5",
              "IPY_MODEL_becc2e266ddf4284979c40f0a086c1b6"
            ]
          }
        },
        "782eb08983a54f959c0656d4773e8250": {
          "model_module": "@jupyter-widgets/base",
          "model_name": "LayoutModel",
          "model_module_version": "1.2.0",
          "state": {
            "_view_name": "LayoutView",
            "grid_template_rows": null,
            "right": null,
            "justify_content": null,
            "_view_module": "@jupyter-widgets/base",
            "overflow": null,
            "_model_module_version": "1.2.0",
            "_view_count": null,
            "flex_flow": null,
            "width": null,
            "min_width": null,
            "border": null,
            "align_items": null,
            "bottom": null,
            "_model_module": "@jupyter-widgets/base",
            "top": null,
            "grid_column": null,
            "overflow_y": null,
            "overflow_x": null,
            "grid_auto_flow": null,
            "grid_area": null,
            "grid_template_columns": null,
            "flex": null,
            "_model_name": "LayoutModel",
            "justify_items": null,
            "grid_row": null,
            "max_height": null,
            "align_content": null,
            "visibility": null,
            "align_self": null,
            "height": null,
            "min_height": null,
            "padding": null,
            "grid_auto_rows": null,
            "grid_gap": null,
            "max_width": null,
            "order": null,
            "_view_module_version": "1.2.0",
            "grid_template_areas": null,
            "object_position": null,
            "object_fit": null,
            "grid_auto_columns": null,
            "margin": null,
            "display": null,
            "left": null
          }
        },
        "70ffc2197ddb493b90b26a95ffabb4d8": {
          "model_module": "@jupyter-widgets/controls",
          "model_name": "HTMLModel",
          "model_module_version": "1.5.0",
          "state": {
            "_view_name": "HTMLView",
            "style": "IPY_MODEL_0d07c5002a704772a401df40d54b4515",
            "_dom_classes": [],
            "description": "",
            "_model_name": "HTMLModel",
            "placeholder": "​",
            "_view_module": "@jupyter-widgets/controls",
            "_model_module_version": "1.5.0",
            "value": "Downloading: 100%",
            "_view_count": null,
            "_view_module_version": "1.5.0",
            "description_tooltip": null,
            "_model_module": "@jupyter-widgets/controls",
            "layout": "IPY_MODEL_d816fb5fa28b49b29e486888aeed4de8"
          }
        },
        "20d67f1a838e4eff995062f54347afd5": {
          "model_module": "@jupyter-widgets/controls",
          "model_name": "FloatProgressModel",
          "model_module_version": "1.5.0",
          "state": {
            "_view_name": "ProgressView",
            "style": "IPY_MODEL_78e06fa22a4f4e06b62aea8ff8cd5f5e",
            "_dom_classes": [],
            "description": "",
            "_model_name": "FloatProgressModel",
            "bar_style": "success",
            "max": 456318,
            "_view_module": "@jupyter-widgets/controls",
            "_model_module_version": "1.5.0",
            "value": 456318,
            "_view_count": null,
            "_view_module_version": "1.5.0",
            "orientation": "horizontal",
            "min": 0,
            "description_tooltip": null,
            "_model_module": "@jupyter-widgets/controls",
            "layout": "IPY_MODEL_cbefdd8c8e2d4ddfbacb9962095510f1"
          }
        },
        "becc2e266ddf4284979c40f0a086c1b6": {
          "model_module": "@jupyter-widgets/controls",
          "model_name": "HTMLModel",
          "model_module_version": "1.5.0",
          "state": {
            "_view_name": "HTMLView",
            "style": "IPY_MODEL_91876ac1413f490aae9829f34dff3c91",
            "_dom_classes": [],
            "description": "",
            "_model_name": "HTMLModel",
            "placeholder": "​",
            "_view_module": "@jupyter-widgets/controls",
            "_model_module_version": "1.5.0",
            "value": " 446k/446k [00:00&lt;00:00, 782kB/s]",
            "_view_count": null,
            "_view_module_version": "1.5.0",
            "description_tooltip": null,
            "_model_module": "@jupyter-widgets/controls",
            "layout": "IPY_MODEL_2845df2be036443a8e59c23d05565947"
          }
        },
        "0d07c5002a704772a401df40d54b4515": {
          "model_module": "@jupyter-widgets/controls",
          "model_name": "DescriptionStyleModel",
          "model_module_version": "1.5.0",
          "state": {
            "_view_name": "StyleView",
            "_model_name": "DescriptionStyleModel",
            "description_width": "",
            "_view_module": "@jupyter-widgets/base",
            "_model_module_version": "1.5.0",
            "_view_count": null,
            "_view_module_version": "1.2.0",
            "_model_module": "@jupyter-widgets/controls"
          }
        },
        "d816fb5fa28b49b29e486888aeed4de8": {
          "model_module": "@jupyter-widgets/base",
          "model_name": "LayoutModel",
          "model_module_version": "1.2.0",
          "state": {
            "_view_name": "LayoutView",
            "grid_template_rows": null,
            "right": null,
            "justify_content": null,
            "_view_module": "@jupyter-widgets/base",
            "overflow": null,
            "_model_module_version": "1.2.0",
            "_view_count": null,
            "flex_flow": null,
            "width": null,
            "min_width": null,
            "border": null,
            "align_items": null,
            "bottom": null,
            "_model_module": "@jupyter-widgets/base",
            "top": null,
            "grid_column": null,
            "overflow_y": null,
            "overflow_x": null,
            "grid_auto_flow": null,
            "grid_area": null,
            "grid_template_columns": null,
            "flex": null,
            "_model_name": "LayoutModel",
            "justify_items": null,
            "grid_row": null,
            "max_height": null,
            "align_content": null,
            "visibility": null,
            "align_self": null,
            "height": null,
            "min_height": null,
            "padding": null,
            "grid_auto_rows": null,
            "grid_gap": null,
            "max_width": null,
            "order": null,
            "_view_module_version": "1.2.0",
            "grid_template_areas": null,
            "object_position": null,
            "object_fit": null,
            "grid_auto_columns": null,
            "margin": null,
            "display": null,
            "left": null
          }
        },
        "78e06fa22a4f4e06b62aea8ff8cd5f5e": {
          "model_module": "@jupyter-widgets/controls",
          "model_name": "ProgressStyleModel",
          "model_module_version": "1.5.0",
          "state": {
            "_view_name": "StyleView",
            "_model_name": "ProgressStyleModel",
            "description_width": "",
            "_view_module": "@jupyter-widgets/base",
            "_model_module_version": "1.5.0",
            "_view_count": null,
            "_view_module_version": "1.2.0",
            "bar_color": null,
            "_model_module": "@jupyter-widgets/controls"
          }
        },
        "cbefdd8c8e2d4ddfbacb9962095510f1": {
          "model_module": "@jupyter-widgets/base",
          "model_name": "LayoutModel",
          "model_module_version": "1.2.0",
          "state": {
            "_view_name": "LayoutView",
            "grid_template_rows": null,
            "right": null,
            "justify_content": null,
            "_view_module": "@jupyter-widgets/base",
            "overflow": null,
            "_model_module_version": "1.2.0",
            "_view_count": null,
            "flex_flow": null,
            "width": null,
            "min_width": null,
            "border": null,
            "align_items": null,
            "bottom": null,
            "_model_module": "@jupyter-widgets/base",
            "top": null,
            "grid_column": null,
            "overflow_y": null,
            "overflow_x": null,
            "grid_auto_flow": null,
            "grid_area": null,
            "grid_template_columns": null,
            "flex": null,
            "_model_name": "LayoutModel",
            "justify_items": null,
            "grid_row": null,
            "max_height": null,
            "align_content": null,
            "visibility": null,
            "align_self": null,
            "height": null,
            "min_height": null,
            "padding": null,
            "grid_auto_rows": null,
            "grid_gap": null,
            "max_width": null,
            "order": null,
            "_view_module_version": "1.2.0",
            "grid_template_areas": null,
            "object_position": null,
            "object_fit": null,
            "grid_auto_columns": null,
            "margin": null,
            "display": null,
            "left": null
          }
        },
        "91876ac1413f490aae9829f34dff3c91": {
          "model_module": "@jupyter-widgets/controls",
          "model_name": "DescriptionStyleModel",
          "model_module_version": "1.5.0",
          "state": {
            "_view_name": "StyleView",
            "_model_name": "DescriptionStyleModel",
            "description_width": "",
            "_view_module": "@jupyter-widgets/base",
            "_model_module_version": "1.5.0",
            "_view_count": null,
            "_view_module_version": "1.2.0",
            "_model_module": "@jupyter-widgets/controls"
          }
        },
        "2845df2be036443a8e59c23d05565947": {
          "model_module": "@jupyter-widgets/base",
          "model_name": "LayoutModel",
          "model_module_version": "1.2.0",
          "state": {
            "_view_name": "LayoutView",
            "grid_template_rows": null,
            "right": null,
            "justify_content": null,
            "_view_module": "@jupyter-widgets/base",
            "overflow": null,
            "_model_module_version": "1.2.0",
            "_view_count": null,
            "flex_flow": null,
            "width": null,
            "min_width": null,
            "border": null,
            "align_items": null,
            "bottom": null,
            "_model_module": "@jupyter-widgets/base",
            "top": null,
            "grid_column": null,
            "overflow_y": null,
            "overflow_x": null,
            "grid_auto_flow": null,
            "grid_area": null,
            "grid_template_columns": null,
            "flex": null,
            "_model_name": "LayoutModel",
            "justify_items": null,
            "grid_row": null,
            "max_height": null,
            "align_content": null,
            "visibility": null,
            "align_self": null,
            "height": null,
            "min_height": null,
            "padding": null,
            "grid_auto_rows": null,
            "grid_gap": null,
            "max_width": null,
            "order": null,
            "_view_module_version": "1.2.0",
            "grid_template_areas": null,
            "object_position": null,
            "object_fit": null,
            "grid_auto_columns": null,
            "margin": null,
            "display": null,
            "left": null
          }
        },
        "b1c8caab98bf46f782bb0e8830c2be92": {
          "model_module": "@jupyter-widgets/controls",
          "model_name": "HBoxModel",
          "model_module_version": "1.5.0",
          "state": {
            "_view_name": "HBoxView",
            "_dom_classes": [],
            "_model_name": "HBoxModel",
            "_view_module": "@jupyter-widgets/controls",
            "_model_module_version": "1.5.0",
            "_view_count": null,
            "_view_module_version": "1.5.0",
            "box_style": "",
            "layout": "IPY_MODEL_8fce9a28071f44f9b3ffc97dbb67f730",
            "_model_module": "@jupyter-widgets/controls",
            "children": [
              "IPY_MODEL_66d4af300bba4c3c906d4b8376fda67d",
              "IPY_MODEL_11f972e2d7f54efdbc8ec351af69b511",
              "IPY_MODEL_71d98ed2ce6b445ba96318c42ca5f222"
            ]
          }
        },
        "8fce9a28071f44f9b3ffc97dbb67f730": {
          "model_module": "@jupyter-widgets/base",
          "model_name": "LayoutModel",
          "model_module_version": "1.2.0",
          "state": {
            "_view_name": "LayoutView",
            "grid_template_rows": null,
            "right": null,
            "justify_content": null,
            "_view_module": "@jupyter-widgets/base",
            "overflow": null,
            "_model_module_version": "1.2.0",
            "_view_count": null,
            "flex_flow": null,
            "width": null,
            "min_width": null,
            "border": null,
            "align_items": null,
            "bottom": null,
            "_model_module": "@jupyter-widgets/base",
            "top": null,
            "grid_column": null,
            "overflow_y": null,
            "overflow_x": null,
            "grid_auto_flow": null,
            "grid_area": null,
            "grid_template_columns": null,
            "flex": null,
            "_model_name": "LayoutModel",
            "justify_items": null,
            "grid_row": null,
            "max_height": null,
            "align_content": null,
            "visibility": null,
            "align_self": null,
            "height": null,
            "min_height": null,
            "padding": null,
            "grid_auto_rows": null,
            "grid_gap": null,
            "max_width": null,
            "order": null,
            "_view_module_version": "1.2.0",
            "grid_template_areas": null,
            "object_position": null,
            "object_fit": null,
            "grid_auto_columns": null,
            "margin": null,
            "display": null,
            "left": null
          }
        },
        "66d4af300bba4c3c906d4b8376fda67d": {
          "model_module": "@jupyter-widgets/controls",
          "model_name": "HTMLModel",
          "model_module_version": "1.5.0",
          "state": {
            "_view_name": "HTMLView",
            "style": "IPY_MODEL_210ff9e2a44c4cb3a09a56820542a2d0",
            "_dom_classes": [],
            "description": "",
            "_model_name": "HTMLModel",
            "placeholder": "​",
            "_view_module": "@jupyter-widgets/controls",
            "_model_module_version": "1.5.0",
            "value": "Downloading: 100%",
            "_view_count": null,
            "_view_module_version": "1.5.0",
            "description_tooltip": null,
            "_model_module": "@jupyter-widgets/controls",
            "layout": "IPY_MODEL_58ac17feee6c42699cae5aaebbe26959"
          }
        },
        "11f972e2d7f54efdbc8ec351af69b511": {
          "model_module": "@jupyter-widgets/controls",
          "model_name": "FloatProgressModel",
          "model_module_version": "1.5.0",
          "state": {
            "_view_name": "ProgressView",
            "style": "IPY_MODEL_f702c2a0d296444e8074bbcbd1c30cd0",
            "_dom_classes": [],
            "description": "",
            "_model_name": "FloatProgressModel",
            "bar_style": "success",
            "max": 26,
            "_view_module": "@jupyter-widgets/controls",
            "_model_module_version": "1.5.0",
            "value": 26,
            "_view_count": null,
            "_view_module_version": "1.5.0",
            "orientation": "horizontal",
            "min": 0,
            "description_tooltip": null,
            "_model_module": "@jupyter-widgets/controls",
            "layout": "IPY_MODEL_634f027b988e485c84f12cfc79277c74"
          }
        },
        "71d98ed2ce6b445ba96318c42ca5f222": {
          "model_module": "@jupyter-widgets/controls",
          "model_name": "HTMLModel",
          "model_module_version": "1.5.0",
          "state": {
            "_view_name": "HTMLView",
            "style": "IPY_MODEL_6b640e4b0a6e4d0f97edf1f375953be8",
            "_dom_classes": [],
            "description": "",
            "_model_name": "HTMLModel",
            "placeholder": "​",
            "_view_module": "@jupyter-widgets/controls",
            "_model_module_version": "1.5.0",
            "value": " 26.0/26.0 [00:00&lt;00:00, 726B/s]",
            "_view_count": null,
            "_view_module_version": "1.5.0",
            "description_tooltip": null,
            "_model_module": "@jupyter-widgets/controls",
            "layout": "IPY_MODEL_16c5b0740a7d4459a258f465ec094952"
          }
        },
        "210ff9e2a44c4cb3a09a56820542a2d0": {
          "model_module": "@jupyter-widgets/controls",
          "model_name": "DescriptionStyleModel",
          "model_module_version": "1.5.0",
          "state": {
            "_view_name": "StyleView",
            "_model_name": "DescriptionStyleModel",
            "description_width": "",
            "_view_module": "@jupyter-widgets/base",
            "_model_module_version": "1.5.0",
            "_view_count": null,
            "_view_module_version": "1.2.0",
            "_model_module": "@jupyter-widgets/controls"
          }
        },
        "58ac17feee6c42699cae5aaebbe26959": {
          "model_module": "@jupyter-widgets/base",
          "model_name": "LayoutModel",
          "model_module_version": "1.2.0",
          "state": {
            "_view_name": "LayoutView",
            "grid_template_rows": null,
            "right": null,
            "justify_content": null,
            "_view_module": "@jupyter-widgets/base",
            "overflow": null,
            "_model_module_version": "1.2.0",
            "_view_count": null,
            "flex_flow": null,
            "width": null,
            "min_width": null,
            "border": null,
            "align_items": null,
            "bottom": null,
            "_model_module": "@jupyter-widgets/base",
            "top": null,
            "grid_column": null,
            "overflow_y": null,
            "overflow_x": null,
            "grid_auto_flow": null,
            "grid_area": null,
            "grid_template_columns": null,
            "flex": null,
            "_model_name": "LayoutModel",
            "justify_items": null,
            "grid_row": null,
            "max_height": null,
            "align_content": null,
            "visibility": null,
            "align_self": null,
            "height": null,
            "min_height": null,
            "padding": null,
            "grid_auto_rows": null,
            "grid_gap": null,
            "max_width": null,
            "order": null,
            "_view_module_version": "1.2.0",
            "grid_template_areas": null,
            "object_position": null,
            "object_fit": null,
            "grid_auto_columns": null,
            "margin": null,
            "display": null,
            "left": null
          }
        },
        "f702c2a0d296444e8074bbcbd1c30cd0": {
          "model_module": "@jupyter-widgets/controls",
          "model_name": "ProgressStyleModel",
          "model_module_version": "1.5.0",
          "state": {
            "_view_name": "StyleView",
            "_model_name": "ProgressStyleModel",
            "description_width": "",
            "_view_module": "@jupyter-widgets/base",
            "_model_module_version": "1.5.0",
            "_view_count": null,
            "_view_module_version": "1.2.0",
            "bar_color": null,
            "_model_module": "@jupyter-widgets/controls"
          }
        },
        "634f027b988e485c84f12cfc79277c74": {
          "model_module": "@jupyter-widgets/base",
          "model_name": "LayoutModel",
          "model_module_version": "1.2.0",
          "state": {
            "_view_name": "LayoutView",
            "grid_template_rows": null,
            "right": null,
            "justify_content": null,
            "_view_module": "@jupyter-widgets/base",
            "overflow": null,
            "_model_module_version": "1.2.0",
            "_view_count": null,
            "flex_flow": null,
            "width": null,
            "min_width": null,
            "border": null,
            "align_items": null,
            "bottom": null,
            "_model_module": "@jupyter-widgets/base",
            "top": null,
            "grid_column": null,
            "overflow_y": null,
            "overflow_x": null,
            "grid_auto_flow": null,
            "grid_area": null,
            "grid_template_columns": null,
            "flex": null,
            "_model_name": "LayoutModel",
            "justify_items": null,
            "grid_row": null,
            "max_height": null,
            "align_content": null,
            "visibility": null,
            "align_self": null,
            "height": null,
            "min_height": null,
            "padding": null,
            "grid_auto_rows": null,
            "grid_gap": null,
            "max_width": null,
            "order": null,
            "_view_module_version": "1.2.0",
            "grid_template_areas": null,
            "object_position": null,
            "object_fit": null,
            "grid_auto_columns": null,
            "margin": null,
            "display": null,
            "left": null
          }
        },
        "6b640e4b0a6e4d0f97edf1f375953be8": {
          "model_module": "@jupyter-widgets/controls",
          "model_name": "DescriptionStyleModel",
          "model_module_version": "1.5.0",
          "state": {
            "_view_name": "StyleView",
            "_model_name": "DescriptionStyleModel",
            "description_width": "",
            "_view_module": "@jupyter-widgets/base",
            "_model_module_version": "1.5.0",
            "_view_count": null,
            "_view_module_version": "1.2.0",
            "_model_module": "@jupyter-widgets/controls"
          }
        },
        "16c5b0740a7d4459a258f465ec094952": {
          "model_module": "@jupyter-widgets/base",
          "model_name": "LayoutModel",
          "model_module_version": "1.2.0",
          "state": {
            "_view_name": "LayoutView",
            "grid_template_rows": null,
            "right": null,
            "justify_content": null,
            "_view_module": "@jupyter-widgets/base",
            "overflow": null,
            "_model_module_version": "1.2.0",
            "_view_count": null,
            "flex_flow": null,
            "width": null,
            "min_width": null,
            "border": null,
            "align_items": null,
            "bottom": null,
            "_model_module": "@jupyter-widgets/base",
            "top": null,
            "grid_column": null,
            "overflow_y": null,
            "overflow_x": null,
            "grid_auto_flow": null,
            "grid_area": null,
            "grid_template_columns": null,
            "flex": null,
            "_model_name": "LayoutModel",
            "justify_items": null,
            "grid_row": null,
            "max_height": null,
            "align_content": null,
            "visibility": null,
            "align_self": null,
            "height": null,
            "min_height": null,
            "padding": null,
            "grid_auto_rows": null,
            "grid_gap": null,
            "max_width": null,
            "order": null,
            "_view_module_version": "1.2.0",
            "grid_template_areas": null,
            "object_position": null,
            "object_fit": null,
            "grid_auto_columns": null,
            "margin": null,
            "display": null,
            "left": null
          }
        },
        "84622aa6d5f84ff1aa0506c2bad69209": {
          "model_module": "@jupyter-widgets/controls",
          "model_name": "HBoxModel",
          "model_module_version": "1.5.0",
          "state": {
            "_view_name": "HBoxView",
            "_dom_classes": [],
            "_model_name": "HBoxModel",
            "_view_module": "@jupyter-widgets/controls",
            "_model_module_version": "1.5.0",
            "_view_count": null,
            "_view_module_version": "1.5.0",
            "box_style": "",
            "layout": "IPY_MODEL_696c46e2e9ad4fe1a98d74d15da37a60",
            "_model_module": "@jupyter-widgets/controls",
            "children": [
              "IPY_MODEL_ed230406f3f94fe5a87c951151f4ae40",
              "IPY_MODEL_f749c0934e0248b396b7a97e2aad80e4",
              "IPY_MODEL_0c1f41ef44c44b9caa0f4d6dce22ee50"
            ]
          }
        },
        "696c46e2e9ad4fe1a98d74d15da37a60": {
          "model_module": "@jupyter-widgets/base",
          "model_name": "LayoutModel",
          "model_module_version": "1.2.0",
          "state": {
            "_view_name": "LayoutView",
            "grid_template_rows": null,
            "right": null,
            "justify_content": null,
            "_view_module": "@jupyter-widgets/base",
            "overflow": null,
            "_model_module_version": "1.2.0",
            "_view_count": null,
            "flex_flow": null,
            "width": null,
            "min_width": null,
            "border": null,
            "align_items": null,
            "bottom": null,
            "_model_module": "@jupyter-widgets/base",
            "top": null,
            "grid_column": null,
            "overflow_y": null,
            "overflow_x": null,
            "grid_auto_flow": null,
            "grid_area": null,
            "grid_template_columns": null,
            "flex": null,
            "_model_name": "LayoutModel",
            "justify_items": null,
            "grid_row": null,
            "max_height": null,
            "align_content": null,
            "visibility": null,
            "align_self": null,
            "height": null,
            "min_height": null,
            "padding": null,
            "grid_auto_rows": null,
            "grid_gap": null,
            "max_width": null,
            "order": null,
            "_view_module_version": "1.2.0",
            "grid_template_areas": null,
            "object_position": null,
            "object_fit": null,
            "grid_auto_columns": null,
            "margin": null,
            "display": null,
            "left": null
          }
        },
        "ed230406f3f94fe5a87c951151f4ae40": {
          "model_module": "@jupyter-widgets/controls",
          "model_name": "HTMLModel",
          "model_module_version": "1.5.0",
          "state": {
            "_view_name": "HTMLView",
            "style": "IPY_MODEL_3d2a09bb30eb458297723932ad53c6d5",
            "_dom_classes": [],
            "description": "",
            "_model_name": "HTMLModel",
            "placeholder": "​",
            "_view_module": "@jupyter-widgets/controls",
            "_model_module_version": "1.5.0",
            "value": "Downloading: 100%",
            "_view_count": null,
            "_view_module_version": "1.5.0",
            "description_tooltip": null,
            "_model_module": "@jupyter-widgets/controls",
            "layout": "IPY_MODEL_f5edc1ef2ee54bf9974c0673a4699835"
          }
        },
        "f749c0934e0248b396b7a97e2aad80e4": {
          "model_module": "@jupyter-widgets/controls",
          "model_name": "FloatProgressModel",
          "model_module_version": "1.5.0",
          "state": {
            "_view_name": "ProgressView",
            "style": "IPY_MODEL_e155ffe89c664b57a4d05ac00bca61ef",
            "_dom_classes": [],
            "description": "",
            "_model_name": "FloatProgressModel",
            "bar_style": "success",
            "max": 1600,
            "_view_module": "@jupyter-widgets/controls",
            "_model_module_version": "1.5.0",
            "value": 1600,
            "_view_count": null,
            "_view_module_version": "1.5.0",
            "orientation": "horizontal",
            "min": 0,
            "description_tooltip": null,
            "_model_module": "@jupyter-widgets/controls",
            "layout": "IPY_MODEL_3e996bff72db45948f525c4b174e3763"
          }
        },
        "0c1f41ef44c44b9caa0f4d6dce22ee50": {
          "model_module": "@jupyter-widgets/controls",
          "model_name": "HTMLModel",
          "model_module_version": "1.5.0",
          "state": {
            "_view_name": "HTMLView",
            "style": "IPY_MODEL_2595375aa9d44bfd9facd08887f3293d",
            "_dom_classes": [],
            "description": "",
            "_model_name": "HTMLModel",
            "placeholder": "​",
            "_view_module": "@jupyter-widgets/controls",
            "_model_module_version": "1.5.0",
            "value": " 1.56k/1.56k [00:00&lt;00:00, 49.6kB/s]",
            "_view_count": null,
            "_view_module_version": "1.5.0",
            "description_tooltip": null,
            "_model_module": "@jupyter-widgets/controls",
            "layout": "IPY_MODEL_3892388a920b4413868b501442cc9bb9"
          }
        },
        "3d2a09bb30eb458297723932ad53c6d5": {
          "model_module": "@jupyter-widgets/controls",
          "model_name": "DescriptionStyleModel",
          "model_module_version": "1.5.0",
          "state": {
            "_view_name": "StyleView",
            "_model_name": "DescriptionStyleModel",
            "description_width": "",
            "_view_module": "@jupyter-widgets/base",
            "_model_module_version": "1.5.0",
            "_view_count": null,
            "_view_module_version": "1.2.0",
            "_model_module": "@jupyter-widgets/controls"
          }
        },
        "f5edc1ef2ee54bf9974c0673a4699835": {
          "model_module": "@jupyter-widgets/base",
          "model_name": "LayoutModel",
          "model_module_version": "1.2.0",
          "state": {
            "_view_name": "LayoutView",
            "grid_template_rows": null,
            "right": null,
            "justify_content": null,
            "_view_module": "@jupyter-widgets/base",
            "overflow": null,
            "_model_module_version": "1.2.0",
            "_view_count": null,
            "flex_flow": null,
            "width": null,
            "min_width": null,
            "border": null,
            "align_items": null,
            "bottom": null,
            "_model_module": "@jupyter-widgets/base",
            "top": null,
            "grid_column": null,
            "overflow_y": null,
            "overflow_x": null,
            "grid_auto_flow": null,
            "grid_area": null,
            "grid_template_columns": null,
            "flex": null,
            "_model_name": "LayoutModel",
            "justify_items": null,
            "grid_row": null,
            "max_height": null,
            "align_content": null,
            "visibility": null,
            "align_self": null,
            "height": null,
            "min_height": null,
            "padding": null,
            "grid_auto_rows": null,
            "grid_gap": null,
            "max_width": null,
            "order": null,
            "_view_module_version": "1.2.0",
            "grid_template_areas": null,
            "object_position": null,
            "object_fit": null,
            "grid_auto_columns": null,
            "margin": null,
            "display": null,
            "left": null
          }
        },
        "e155ffe89c664b57a4d05ac00bca61ef": {
          "model_module": "@jupyter-widgets/controls",
          "model_name": "ProgressStyleModel",
          "model_module_version": "1.5.0",
          "state": {
            "_view_name": "StyleView",
            "_model_name": "ProgressStyleModel",
            "description_width": "",
            "_view_module": "@jupyter-widgets/base",
            "_model_module_version": "1.5.0",
            "_view_count": null,
            "_view_module_version": "1.2.0",
            "bar_color": null,
            "_model_module": "@jupyter-widgets/controls"
          }
        },
        "3e996bff72db45948f525c4b174e3763": {
          "model_module": "@jupyter-widgets/base",
          "model_name": "LayoutModel",
          "model_module_version": "1.2.0",
          "state": {
            "_view_name": "LayoutView",
            "grid_template_rows": null,
            "right": null,
            "justify_content": null,
            "_view_module": "@jupyter-widgets/base",
            "overflow": null,
            "_model_module_version": "1.2.0",
            "_view_count": null,
            "flex_flow": null,
            "width": null,
            "min_width": null,
            "border": null,
            "align_items": null,
            "bottom": null,
            "_model_module": "@jupyter-widgets/base",
            "top": null,
            "grid_column": null,
            "overflow_y": null,
            "overflow_x": null,
            "grid_auto_flow": null,
            "grid_area": null,
            "grid_template_columns": null,
            "flex": null,
            "_model_name": "LayoutModel",
            "justify_items": null,
            "grid_row": null,
            "max_height": null,
            "align_content": null,
            "visibility": null,
            "align_self": null,
            "height": null,
            "min_height": null,
            "padding": null,
            "grid_auto_rows": null,
            "grid_gap": null,
            "max_width": null,
            "order": null,
            "_view_module_version": "1.2.0",
            "grid_template_areas": null,
            "object_position": null,
            "object_fit": null,
            "grid_auto_columns": null,
            "margin": null,
            "display": null,
            "left": null
          }
        },
        "2595375aa9d44bfd9facd08887f3293d": {
          "model_module": "@jupyter-widgets/controls",
          "model_name": "DescriptionStyleModel",
          "model_module_version": "1.5.0",
          "state": {
            "_view_name": "StyleView",
            "_model_name": "DescriptionStyleModel",
            "description_width": "",
            "_view_module": "@jupyter-widgets/base",
            "_model_module_version": "1.5.0",
            "_view_count": null,
            "_view_module_version": "1.2.0",
            "_model_module": "@jupyter-widgets/controls"
          }
        },
        "3892388a920b4413868b501442cc9bb9": {
          "model_module": "@jupyter-widgets/base",
          "model_name": "LayoutModel",
          "model_module_version": "1.2.0",
          "state": {
            "_view_name": "LayoutView",
            "grid_template_rows": null,
            "right": null,
            "justify_content": null,
            "_view_module": "@jupyter-widgets/base",
            "overflow": null,
            "_model_module_version": "1.2.0",
            "_view_count": null,
            "flex_flow": null,
            "width": null,
            "min_width": null,
            "border": null,
            "align_items": null,
            "bottom": null,
            "_model_module": "@jupyter-widgets/base",
            "top": null,
            "grid_column": null,
            "overflow_y": null,
            "overflow_x": null,
            "grid_auto_flow": null,
            "grid_area": null,
            "grid_template_columns": null,
            "flex": null,
            "_model_name": "LayoutModel",
            "justify_items": null,
            "grid_row": null,
            "max_height": null,
            "align_content": null,
            "visibility": null,
            "align_self": null,
            "height": null,
            "min_height": null,
            "padding": null,
            "grid_auto_rows": null,
            "grid_gap": null,
            "max_width": null,
            "order": null,
            "_view_module_version": "1.2.0",
            "grid_template_areas": null,
            "object_position": null,
            "object_fit": null,
            "grid_auto_columns": null,
            "margin": null,
            "display": null,
            "left": null
          }
        }
      }
    }
  },
  "cells": [
    {
      "cell_type": "markdown",
      "metadata": {
        "id": "view-in-github",
        "colab_type": "text"
      },
      "source": [
        "<a href=\"https://colab.research.google.com/github/AEGriffith/dnd_generate/blob/main/Generate_5e_Spells.ipynb\" target=\"_parent\"><img src=\"https://colab.research.google.com/assets/colab-badge.svg\" alt=\"Open In Colab\"/></a>"
      ]
    },
    {
      "cell_type": "markdown",
      "source": [
        "# Steps\n",
        "\n",
        "1.   Save a shortcut of the D&D Gen Public to your drive at the top level.\n",
        "2.   Select your options in the form underthe \"Final Generate\" section.\n",
        "3.   Click \"Run All\"\n",
        "4.   Mount Google Drive in second code box.\n",
        "5.   Click Link\n",
        "\n",
        "\n",
        "\n",
        "\n",
        "\n"
      ],
      "metadata": {
        "id": "jMmJKQBJYfgz"
      }
    },
    {
      "cell_type": "markdown",
      "source": [
        "## **NOTE:**\n",
        "As long as everything has been run once and you haven't had to reconnect, you only need to run the [Final Generate](https://colab.research.google.com/drive/1J_LyLjq5c8QHQeudenp79CbIufppWOdI#scrollTo=Tunqz94JWiq7) section to make changes and generate more spells."
      ],
      "metadata": {
        "id": "mUhDO5WIX85-"
      }
    },
    {
      "cell_type": "markdown",
      "source": [
        "# Google Drive and GSpread\n",
        "Interaction Required"
      ],
      "metadata": {
        "id": "py_yB8pBMvgx"
      }
    },
    {
      "cell_type": "markdown",
      "source": [
        "## Mount Google Drive\n",
        "Required for loading models. Nothing will work if the drive is not mounted."
      ],
      "metadata": {
        "id": "0TwEXWBLKsAA"
      }
    },
    {
      "cell_type": "code",
      "source": [
        "from google.colab import drive\n",
        "drive.mount('/content/drive')"
      ],
      "metadata": {
        "colab": {
          "base_uri": "https://localhost:8080/"
        },
        "id": "K0kB5jMKTIN4",
        "outputId": "610b0d96-f5de-4747-8b52-fa6f811bf16d"
      },
      "execution_count": null,
      "outputs": [
        {
          "output_type": "stream",
          "name": "stdout",
          "text": [
            "Mounted at /content/drive\n"
          ]
        }
      ]
    },
    {
      "cell_type": "markdown",
      "source": [
        "## Authorize GSpread\n",
        "Required to get random spell names and save generated spells.\n",
        "\n"
      ],
      "metadata": {
        "id": "ynhLBM4aLU6j"
      }
    },
    {
      "cell_type": "code",
      "source": [
        "# google sheets auth\n",
        "from google.colab import auth\n",
        "auth.authenticate_user()\n",
        "\n",
        "import gspread\n",
        "import random\n",
        "from oauth2client.client import GoogleCredentials\n",
        "gc = gspread.authorize(GoogleCredentials.get_application_default())"
      ],
      "metadata": {
        "id": "CxWuAbsoKomh"
      },
      "execution_count": null,
      "outputs": []
    },
    {
      "cell_type": "markdown",
      "source": [
        "# Load Remaining Packages\n",
        "No interaction Needed\n"
      ],
      "metadata": {
        "id": "ioJaRgD2U-RR"
      }
    },
    {
      "cell_type": "markdown",
      "source": [
        "## General"
      ],
      "metadata": {
        "id": "FyhBMaYDVZuU"
      }
    },
    {
      "cell_type": "code",
      "source": [
        "%%capture\n",
        "!pip install transformers"
      ],
      "metadata": {
        "id": "hRihY91rVrDh"
      },
      "execution_count": null,
      "outputs": []
    },
    {
      "cell_type": "code",
      "execution_count": null,
      "metadata": {
        "id": "r70kKeJsU4vc"
      },
      "outputs": [],
      "source": [
        "# We'll need these libraries to gather and shape the data.\n",
        "import json\n",
        "import torch\n",
        "import random\n",
        "import sys\n",
        "import os\n",
        "import glob\n",
        "import numpy as np\n",
        "import pandas as pd\n",
        "import matplotlib.pyplot as plt\n",
        "\n",
        "from torch.utils.data import Dataset, DataLoader, SequentialSampler, RandomSampler\n",
        "from itertools import compress\n",
        "from math import sqrt"
      ]
    },
    {
      "cell_type": "markdown",
      "source": [
        "## Description Imports\n",
        "Click the link and copy the code into the box."
      ],
      "metadata": {
        "id": "Qy8Io7FGVdT6"
      }
    },
    {
      "cell_type": "code",
      "source": [
        "import requests\n",
        "import torch.nn.functional as F\n",
        "\n",
        "from tqdm.std import trange\n",
        "from transformers import GPT2Tokenizer, GPT2LMHeadModel, GPT2Config"
      ],
      "metadata": {
        "id": "2cT89cHPVh7g"
      },
      "execution_count": null,
      "outputs": []
    },
    {
      "cell_type": "markdown",
      "source": [
        "## Prediction Imports"
      ],
      "metadata": {
        "id": "sJ9hlhPWVizK"
      }
    },
    {
      "cell_type": "code",
      "source": [
        "from sklearn.model_selection import train_test_split\n",
        "from sklearn.metrics import ConfusionMatrixDisplay\n",
        "from transformers import BartForSequenceClassification, BartTokenizer \n",
        "from transformers import RobertaForSequenceClassification, RobertaTokenizer, RobertaConfig"
      ],
      "metadata": {
        "id": "DIiLT_-xVlRF"
      },
      "execution_count": null,
      "outputs": []
    },
    {
      "cell_type": "markdown",
      "source": [
        "## Description"
      ],
      "metadata": {
        "id": "srysh60PayH2"
      }
    },
    {
      "cell_type": "markdown",
      "source": [
        "### Load Spell Description Generation Models"
      ],
      "metadata": {
        "id": "gO886PoCW0gT"
      }
    },
    {
      "cell_type": "code",
      "source": [
        "# should be folder that has model information\n",
        "desc_model = GPT2LMHeadModel.from_pretrained(\"/content/drive/MyDrive/D&D Gen Public/final_models/description\")\n",
        "desc_tokenizer = GPT2Tokenizer.from_pretrained(\"/content/drive/MyDrive/D&D Gen Public/final_models/description\")"
      ],
      "metadata": {
        "id": "LV4lb-VAnZY1"
      },
      "execution_count": null,
      "outputs": []
    },
    {
      "cell_type": "markdown",
      "source": [
        "## Spell Predictions"
      ],
      "metadata": {
        "id": "6OCc8nGacRZq"
      }
    },
    {
      "cell_type": "code",
      "source": [
        "PROJECT_FOLDER = '/content/drive/MyDrive/D&D Gen Public/final_models'\n",
        "MODEL_FOLDER = 'level'\n",
        "device = 'cuda'"
      ],
      "metadata": {
        "id": "xoIIZ2XGWtJR"
      },
      "execution_count": null,
      "outputs": []
    },
    {
      "cell_type": "markdown",
      "source": [
        "### Load Spell Level Prediction Models"
      ],
      "metadata": {
        "id": "yUdhM_xNWtJo"
      }
    },
    {
      "cell_type": "code",
      "source": [
        "lvl_model = BartForSequenceClassification.from_pretrained(os.path.join(PROJECT_FOLDER, MODEL_FOLDER)).cuda()\n",
        "lvl_tokenizer = BartTokenizer.from_pretrained('facebook/bart-large')"
      ],
      "metadata": {
        "id": "7ZnSZY6XgPFD",
        "colab": {
          "base_uri": "https://localhost:8080/",
          "referenced_widgets": [
            "3e56605da4c144339728dd5d7ecc2c3d",
            "b7f1e4a581104dd9afe78db7c12cc678",
            "2b8780391dee48548f3072df6b2c0907",
            "91b595403d884480aab54b6328cd6a6e",
            "4e868e00ba4a47b7a6deff3821d972de",
            "b1d4da7015e1427f99140537027d5b61",
            "b7cfa60c422346479118c15a7be6d70d",
            "6f93cf8b53af44fca1b70b81d469f544",
            "b76d5b9cd8b54a418998d0b1d3045b43",
            "c337a6ee6e434fb6bb6b551127450299",
            "c4425a0a5fc0446e99a4b693db8108c5",
            "999a385e65634b2f90257d1eacd80fbe",
            "782eb08983a54f959c0656d4773e8250",
            "70ffc2197ddb493b90b26a95ffabb4d8",
            "20d67f1a838e4eff995062f54347afd5",
            "becc2e266ddf4284979c40f0a086c1b6",
            "0d07c5002a704772a401df40d54b4515",
            "d816fb5fa28b49b29e486888aeed4de8",
            "78e06fa22a4f4e06b62aea8ff8cd5f5e",
            "cbefdd8c8e2d4ddfbacb9962095510f1",
            "91876ac1413f490aae9829f34dff3c91",
            "2845df2be036443a8e59c23d05565947",
            "b1c8caab98bf46f782bb0e8830c2be92",
            "8fce9a28071f44f9b3ffc97dbb67f730",
            "66d4af300bba4c3c906d4b8376fda67d",
            "11f972e2d7f54efdbc8ec351af69b511",
            "71d98ed2ce6b445ba96318c42ca5f222",
            "210ff9e2a44c4cb3a09a56820542a2d0",
            "58ac17feee6c42699cae5aaebbe26959",
            "f702c2a0d296444e8074bbcbd1c30cd0",
            "634f027b988e485c84f12cfc79277c74",
            "6b640e4b0a6e4d0f97edf1f375953be8",
            "16c5b0740a7d4459a258f465ec094952",
            "84622aa6d5f84ff1aa0506c2bad69209",
            "696c46e2e9ad4fe1a98d74d15da37a60",
            "ed230406f3f94fe5a87c951151f4ae40",
            "f749c0934e0248b396b7a97e2aad80e4",
            "0c1f41ef44c44b9caa0f4d6dce22ee50",
            "3d2a09bb30eb458297723932ad53c6d5",
            "f5edc1ef2ee54bf9974c0673a4699835",
            "e155ffe89c664b57a4d05ac00bca61ef",
            "3e996bff72db45948f525c4b174e3763",
            "2595375aa9d44bfd9facd08887f3293d",
            "3892388a920b4413868b501442cc9bb9"
          ]
        },
        "outputId": "ab25eccc-389f-4432-8fd1-94012a7e9b3a"
      },
      "execution_count": null,
      "outputs": [
        {
          "output_type": "display_data",
          "data": {
            "application/vnd.jupyter.widget-view+json": {
              "model_id": "3e56605da4c144339728dd5d7ecc2c3d",
              "version_minor": 0,
              "version_major": 2
            },
            "text/plain": [
              "Downloading:   0%|          | 0.00/878k [00:00<?, ?B/s]"
            ]
          },
          "metadata": {}
        },
        {
          "output_type": "display_data",
          "data": {
            "application/vnd.jupyter.widget-view+json": {
              "model_id": "999a385e65634b2f90257d1eacd80fbe",
              "version_minor": 0,
              "version_major": 2
            },
            "text/plain": [
              "Downloading:   0%|          | 0.00/446k [00:00<?, ?B/s]"
            ]
          },
          "metadata": {}
        },
        {
          "output_type": "display_data",
          "data": {
            "application/vnd.jupyter.widget-view+json": {
              "model_id": "b1c8caab98bf46f782bb0e8830c2be92",
              "version_minor": 0,
              "version_major": 2
            },
            "text/plain": [
              "Downloading:   0%|          | 0.00/26.0 [00:00<?, ?B/s]"
            ]
          },
          "metadata": {}
        },
        {
          "output_type": "display_data",
          "data": {
            "application/vnd.jupyter.widget-view+json": {
              "model_id": "84622aa6d5f84ff1aa0506c2bad69209",
              "version_minor": 0,
              "version_major": 2
            },
            "text/plain": [
              "Downloading:   0%|          | 0.00/1.56k [00:00<?, ?B/s]"
            ]
          },
          "metadata": {}
        }
      ]
    },
    {
      "cell_type": "markdown",
      "source": [
        "### Load Spell School Prediction Models"
      ],
      "metadata": {
        "id": "2lV59sjFYAQf"
      }
    },
    {
      "cell_type": "code",
      "source": [
        "# from transformers.utils.dummy_pt_objects import DistilBertPreTrainedModel\n",
        "school_model = RobertaForSequenceClassification.from_pretrained('/content/drive/MyDrive/D&D Gen Public/final_models/school/')\n",
        "school_tokenizer = RobertaTokenizer.from_pretrained('/content/drive/MyDrive/D&D Gen Public/final_models/school/')"
      ],
      "metadata": {
        "id": "GKphthHnYEkv"
      },
      "execution_count": null,
      "outputs": []
    },
    {
      "cell_type": "code",
      "source": [
        ""
      ],
      "metadata": {
        "id": "JgR7oFlmIcsw"
      },
      "execution_count": null,
      "outputs": []
    },
    {
      "cell_type": "markdown",
      "source": [
        "# Generation and Prediction Functions\n",
        "No interaction needed"
      ],
      "metadata": {
        "id": "Web2j032LCpW"
      }
    },
    {
      "cell_type": "markdown",
      "source": [
        "## Description generation functions"
      ],
      "metadata": {
        "id": "HJ2Cdm-7XNoM"
      }
    },
    {
      "cell_type": "code",
      "source": [
        "def generate(\n",
        "model,\n",
        "tokenizer,\n",
        "prompt,\n",
        "entry_count=10,\n",
        "entry_length=1000,\n",
        "top_p=0.8,\n",
        "temperature=1.1,\n",
        "):\n",
        "  model = model.to('cuda')\n",
        "  model.eval()\n",
        "\n",
        "\n",
        "\n",
        "\n",
        "  generated_num = 0\n",
        "  generated_list = []\n",
        "\n",
        "  filter_value = -float(\"Inf\")\n",
        "\n",
        "  with torch.no_grad():\n",
        "\n",
        "      for entry_idx in trange(entry_count):\n",
        "\n",
        "          entry_finished = False\n",
        "\n",
        "          generated = torch.tensor(tokenizer.encode(prompt)).unsqueeze(0)\n",
        "          generated = generated.to('cuda')\n",
        "          # Using top-p (nucleus sampling): https://github.com/huggingface/transformers/blob/master/examples/run_generation.py\n",
        "          i = 0\n",
        "\n",
        "          while i <= entry_length:\n",
        "              stuck = 0\n",
        "              outputs = model(generated, labels=generated)\n",
        "              loss, logits = outputs[:2]\n",
        "              logits = logits[:, -1, :] / (temperature if temperature > 0 else 1.0)\n",
        "\n",
        "              sorted_logits, sorted_indices = torch.sort(logits, descending=True)\n",
        "              cumulative_probs = torch.cumsum(\n",
        "                  F.softmax(sorted_logits, dim=-1), dim=-1\n",
        "              )\n",
        "\n",
        "              sorted_indices_to_remove = cumulative_probs > top_p\n",
        "              sorted_indices_to_remove[..., 1:] = sorted_indices_to_remove[\n",
        "                  ..., :-1\n",
        "              ].clone()\n",
        "              sorted_indices_to_remove[..., 0] = 0\n",
        "\n",
        "              indices_to_remove = sorted_indices[sorted_indices_to_remove]\n",
        "              logits[:, indices_to_remove] = filter_value\n",
        "\n",
        "              next_token = torch.multinomial(F.softmax(logits, dim=-1), num_samples=1)\n",
        "\n",
        "\n",
        "              if next_token in tokenizer.encode(\"<|spell|>\") or next_token in tokenizer.encode(\"<|name|>\"):\n",
        "                # print(tokenizer.decode(next_token))\n",
        "                i = i-1\n",
        "                # generated = generated\n",
        "                if stuck >500:\n",
        "                  entry_finished = True\n",
        "                stuck = stuck+1\n",
        "                continue\n",
        "              else:\n",
        "                generated = torch.cat((generated, next_token), dim=1)\n",
        "                stuck = 0\n",
        "\n",
        "              if next_token in tokenizer.encode(\"<|endoftext|>\"):\n",
        "                  entry_finished = True\n",
        "\n",
        "              if entry_finished:\n",
        "\n",
        "                  generated_num = generated_num + 1\n",
        "\n",
        "                  generated = generated.to('cpu')\n",
        "\n",
        "                  output_list = list(generated.squeeze().numpy())\n",
        "                  output_text = tokenizer.decode(output_list)\n",
        "\n",
        "                  generated_list.append(output_text)\n",
        "                  break\n",
        "          \n",
        "          if not entry_finished:\n",
        "              generated = generated.to('cpu')\n",
        "              output_list = list(generated.squeeze().numpy())\n",
        "              output_text = f\"{tokenizer.decode(output_list)}<|endoftext|>\" \n",
        "              generated_list.append(output_text)\n",
        "              \n",
        "  return generated_list"
      ],
      "metadata": {
        "id": "vei8PuvBXTjM"
      },
      "execution_count": null,
      "outputs": []
    },
    {
      "cell_type": "markdown",
      "source": [
        "## Level prediction functions"
      ],
      "metadata": {
        "id": "92qJPnTpetCJ"
      }
    },
    {
      "cell_type": "code",
      "source": [
        "class LevelsDataset(Dataset):\n",
        "    def __init__(self, df, max_length = 900):\n",
        "        self.df = df\n",
        "        self.tokenizer = lvl_tokenizer\n",
        "        self.max_length = max_length \n",
        "        \n",
        "    def __len__(self):\n",
        "        return len(self.df)\n",
        "    \n",
        "    def __getitem__(self, idx):\n",
        "        # input=review, label=stars\n",
        "        review = self.df.loc[idx, 'description']\n",
        "        # labels are 0-indexed\n",
        "        label = int(self.df.loc[idx, 'level']) \n",
        "        \n",
        "        encoded = self.tokenizer(\n",
        "            review,                      # review to encode\n",
        "            add_special_tokens=True,\n",
        "            max_length=self.max_length,  # Truncate all segments to max_length\n",
        "            padding='max_length',        # pad all reviews with the [PAD] token to the max_length\n",
        "            return_attention_mask=True,  # Construct attention masks.\n",
        "            truncation=True\n",
        "        )\n",
        "        \n",
        "        input_ids = encoded['input_ids']\n",
        "        attn_mask = encoded['attention_mask']\n",
        "        \n",
        "        return {\n",
        "            'input_ids': torch.tensor(input_ids),\n",
        "            'attn_mask': torch.tensor(attn_mask), \n",
        "            'label': torch.tensor(label)\n",
        "        }"
      ],
      "metadata": {
        "id": "UZVscu5WaGYi"
      },
      "execution_count": null,
      "outputs": []
    },
    {
      "cell_type": "code",
      "source": [
        "def get_single_level_prediction(spell_desc, model):\n",
        "\n",
        "  df = pd.DataFrame()\n",
        "  df['description'] = [spell_desc]\n",
        "  df['level'] = ['0']\n",
        "\n",
        "  dataset = LevelsDataset(df)\n",
        "\n",
        "  TEST_BATCH_SIZE = 1\n",
        "  NUM_WORKERS = 1\n",
        "\n",
        "  test_params = {'batch_size': TEST_BATCH_SIZE,\n",
        "              'shuffle': True,\n",
        "              'num_workers': NUM_WORKERS}\n",
        "\n",
        "  data_loader = DataLoader(dataset, **test_params)\n",
        "\n",
        "  total_examples = len(df)\n",
        "  predictions = np.zeros([total_examples], dtype=object)\n",
        "\n",
        "  for batch, data in enumerate(data_loader):\n",
        "\n",
        "    # Get the tokenization values.\n",
        "    input_ids = data['input_ids'].to(device)\n",
        "    mask = data['attn_mask'].to(device)\n",
        "\n",
        "    # Make the prediction with the trained model.\n",
        "    outputs = model(input_ids, mask)\n",
        "\n",
        "    # Get the star rating.\n",
        "    big_val, big_idx = torch.max(outputs[0].data, dim=1)\n",
        "    level_predictions = (big_idx).cpu().numpy()\n",
        "\n",
        "  return level_predictions[0]"
      ],
      "metadata": {
        "id": "qgGUqSBVevaH"
      },
      "execution_count": null,
      "outputs": []
    },
    {
      "cell_type": "markdown",
      "source": [
        "## School Prediction Functions"
      ],
      "metadata": {
        "id": "_dgMTWMPXJ5f"
      }
    },
    {
      "cell_type": "code",
      "source": [
        "class Schools(Dataset):\n",
        "    def __init__(self, dataframe):\n",
        "        self.len = len(dataframe)\n",
        "        self.data = dataframe\n",
        "        self.tokenizer = school_tokenizer\n",
        "        self.max_len = 512\n",
        "        \n",
        "    def __getitem__(self, index):\n",
        "        desc = str(self.data.description[index])\n",
        "        desc = \" \".join(desc.split())\n",
        "        inputs = self.tokenizer.encode_plus(\n",
        "            desc,\n",
        "            None,\n",
        "            add_special_tokens=True,\n",
        "            max_length=self.max_len,\n",
        "            padding='max_length',\n",
        "            return_token_type_ids=True,\n",
        "            truncation=True\n",
        "        )\n",
        "        ids = inputs['input_ids']\n",
        "        mask = inputs['attention_mask']\n",
        "\n",
        "        return {\n",
        "            'ids': torch.tensor(ids, dtype=torch.long),\n",
        "            'mask': torch.tensor(mask, dtype=torch.long),\n",
        "            'targets': torch.tensor(self.data.encode_cat[index], dtype=torch.long)\n",
        "        } \n",
        "    \n",
        "    def __len__(self):\n",
        "        return self.len"
      ],
      "metadata": {
        "id": "i_ql_mS0XgyO"
      },
      "execution_count": null,
      "outputs": []
    },
    {
      "cell_type": "code",
      "source": [
        "def get_single_school_prediction(spell_desc, model):\n",
        " \n",
        "  df = pd.DataFrame()\n",
        "  df['description'] = [spell_desc]\n",
        "  df['encode_cat'] = [1]\n",
        "\n",
        "  dataset = Schools(df)\n",
        "\n",
        "\n",
        "  TEST_BATCH_SIZE = 1\n",
        "  NUM_WORKERS = 1\n",
        "\n",
        "  test_params = {'batch_size': TEST_BATCH_SIZE,\n",
        "              'shuffle': True,\n",
        "              'num_workers': NUM_WORKERS}\n",
        "\n",
        "  data_loader = DataLoader(dataset, **test_params)\n",
        "\n",
        "  total_examples = len(df)\n",
        "  predictions = np.zeros([total_examples], dtype=object)\n",
        "\n",
        "  for batch, data in enumerate(data_loader,0):\n",
        "\n",
        "    # Get the tokenization values.\n",
        "    input_ids = data['ids'].to(device, dtype = torch.long)\n",
        "    mask = data['mask'].to(device, dtype = torch.long)\n",
        "\n",
        "    # Make the prediction with the trained model.\n",
        "    outputs = model(input_ids, mask)\n",
        "\n",
        "    # Get the star rating.\n",
        "    big_val, big_idx = torch.max(outputs[0].data, dim=0)\n",
        "    school_predictions = (big_val).cpu().numpy()\n",
        "\n",
        "\n",
        "  return np.argmax(school_predictions)"
      ],
      "metadata": {
        "id": "2vEP8sB2aEhc"
      },
      "execution_count": null,
      "outputs": []
    },
    {
      "cell_type": "code",
      "source": [
        "school_encoding = ['Transmutation' , 'Abjuration', 'Evocation', 'Illusion', 'Conjuration', 'Enchantment', 'Divination', 'Necromancy']"
      ],
      "metadata": {
        "id": "u7nBy6mHZq1-"
      },
      "execution_count": null,
      "outputs": []
    },
    {
      "cell_type": "markdown",
      "source": [
        "## Generate functions"
      ],
      "metadata": {
        "id": "cTm0OalxSskR"
      }
    },
    {
      "cell_type": "code",
      "source": [
        "from IPython.display import HTML, display\n",
        "\n",
        "def set_css():\n",
        "  display(HTML('''\n",
        "  <style>\n",
        "    pre {\n",
        "        white-space: pre-wrap;\n",
        "    }\n",
        "  </style>\n",
        "  '''))\n",
        "get_ipython().events.register('pre_run_cell', set_css)"
      ],
      "metadata": {
        "colab": {
          "base_uri": "https://localhost:8080/",
          "height": 17
        },
        "id": "EwJSFSooYDMJ",
        "outputId": "68db8054-7834-4dcf-ed1f-e808463ad524"
      },
      "execution_count": null,
      "outputs": [
        {
          "output_type": "display_data",
          "data": {
            "text/html": [
              "\n",
              "  <style>\n",
              "    pre {\n",
              "        white-space: pre-wrap;\n",
              "    }\n",
              "  </style>\n",
              "  "
            ],
            "text/plain": [
              "<IPython.core.display.HTML object>"
            ]
          },
          "metadata": {}
        }
      ]
    },
    {
      "cell_type": "code",
      "source": [
        "def name_gen():\n",
        "  \n",
        "\n",
        "  worksheet = gc.open('generated spells').worksheet('spell names')\n",
        "  gen_names=[]\n",
        "  # Convert to a DataFrame and render.\n",
        "  df = pd.DataFrame.from_dict(worksheet.get_all_records())\n",
        "  for i,j in df.iterrows():\n",
        "    gen_names.append(df['names'][i])\n",
        "\n",
        "  num_gen_spells = len(df)\n",
        "\n",
        "  spell_name = random.choice(gen_names)\n",
        "  return spell_name"
      ],
      "metadata": {
        "id": "lVf-Z32WNpCH",
        "colab": {
          "base_uri": "https://localhost:8080/",
          "height": 17
        },
        "outputId": "71458a03-c901-4b0f-d688-c1bf8d7ab783"
      },
      "execution_count": null,
      "outputs": [
        {
          "output_type": "display_data",
          "data": {
            "text/html": [
              "\n",
              "  <style>\n",
              "    pre {\n",
              "        white-space: pre-wrap;\n",
              "    }\n",
              "  </style>\n",
              "  "
            ],
            "text/plain": [
              "<IPython.core.display.HTML object>"
            ]
          },
          "metadata": {}
        },
        {
          "output_type": "display_data",
          "data": {
            "text/html": [
              "\n",
              "  <style>\n",
              "    pre {\n",
              "        white-space: pre-wrap;\n",
              "    }\n",
              "  </style>\n",
              "  "
            ],
            "text/plain": [
              "<IPython.core.display.HTML object>"
            ]
          },
          "metadata": {}
        }
      ]
    },
    {
      "cell_type": "code",
      "source": [
        "def generate_spells(name, num_spells=1, print_spell=True, save_spell=True):\n",
        "  \n",
        "  for i in range(0,num_spells):\n",
        "    if use_generated:\n",
        "      name = name_gen()\n",
        "\n",
        "    prompt = f\"<|name|> {name} <|spell|>\"\n",
        "    desc_model.to('cuda')\n",
        "    gen_list = generate(desc_model, desc_tokenizer, prompt)\n",
        "    school_model.to('cuda')\n",
        "    save_results = []\n",
        "    \n",
        "    for desc in gen_list:\n",
        "      remove_end_tokens = desc[9:-13].strip()\n",
        "      name, desc = remove_end_tokens.split('<|spell|>', 1)\n",
        "      lvl_result = get_single_level_prediction(desc, lvl_model)\n",
        "      school_results = get_single_school_prediction(desc, school_model)\n",
        "      \n",
        "      if print_spell:\n",
        "        print(name)\n",
        "        print(desc)\n",
        "        print(\"level: \", lvl_result)\n",
        "        print(\"school: \", school_encoding[school_results])\n",
        "        print(\"\\n\\n\\n\")\n",
        "        save_results.append(name)\n",
        "        save_results.append(lvl_result)\n",
        "        save_results.append(school_encoding[school_results])\n",
        "        save_results.append(desc)\n",
        "\n",
        "    \n",
        "    if save_spell:\n",
        "      worksheet = gc.open('generated spells').worksheet('spells')\n",
        "\n",
        "      # Convert to a DataFrame and render.\n",
        "      df = pd.DataFrame.from_dict(worksheet.get_all_records())\n",
        "\n",
        "      num_gen_spells = len(df)\n",
        "\n",
        "      cell_begin = 'A' + str(num_gen_spells + 2)\n",
        "      cell_end = 'D' + str(num_gen_spells + len(gen_list))\n",
        "\n",
        "      cell_list = worksheet.range(cell_begin + ':' + cell_end)\n",
        "\n",
        "      n = 0\n",
        "      for cell in cell_list:\n",
        "        cell.value = str(save_results[n])\n",
        "        n += 1\n",
        "\n",
        "      print(cell_list)\n",
        "      worksheet.update_cells(cell_list)"
      ],
      "metadata": {
        "id": "14Xf3L0j-7fQ",
        "colab": {
          "base_uri": "https://localhost:8080/",
          "height": 17
        },
        "outputId": "3b2d5c6e-1f92-453e-a2f4-86fdc7083eec"
      },
      "execution_count": null,
      "outputs": [
        {
          "output_type": "display_data",
          "data": {
            "text/html": [
              "\n",
              "  <style>\n",
              "    pre {\n",
              "        white-space: pre-wrap;\n",
              "    }\n",
              "  </style>\n",
              "  "
            ],
            "text/plain": [
              "<IPython.core.display.HTML object>"
            ]
          },
          "metadata": {}
        },
        {
          "output_type": "display_data",
          "data": {
            "text/html": [
              "\n",
              "  <style>\n",
              "    pre {\n",
              "        white-space: pre-wrap;\n",
              "    }\n",
              "  </style>\n",
              "  "
            ],
            "text/plain": [
              "<IPython.core.display.HTML object>"
            ]
          },
          "metadata": {}
        }
      ]
    },
    {
      "cell_type": "markdown",
      "source": [
        "# Final Generate"
      ],
      "metadata": {
        "id": "Tunqz94JWiq7"
      }
    },
    {
      "cell_type": "code",
      "source": [
        "#@title Generate  {display-mode: \"form\"}\n",
        "#@markdown Check this box to use a generated spell name\n",
        "use_generated = True #@param {type:\"boolean\"}\n",
        "\n",
        "#@markdown Number of spells you want to generate. Ten descriptions are generated for each spell. If *use_generated* is checked, will choose spell names randomly from the Google sheet each iteration. If using a custom spell name, will generate 10\\**num_spells* descriptions for *spell_name*.\n",
        "num_spells =  1#@param {type:\"integer\"}\n",
        "\n",
        "print_spells = True #@param {type:\"boolean\"}\n",
        "save_spells = True #@param {type:\"boolean\"}\n",
        "\n",
        "#param = spell_name\n",
        "# spell name text\n",
        "#@markdown If you're not generating spell names, put a name here. (if use_generated is checked, this name won't matter)\n",
        "spell_name = \"Dread Hands\" #@param {type:\"string\"}\n",
        "\n",
        "\n",
        "generate_spells(name=spell_name, num_spells=num_spells, print_spell=print_spells, save_spell=save_spells)\n"
      ],
      "metadata": {
        "colab": {
          "base_uri": "https://localhost:8080/",
          "height": 1000
        },
        "id": "8w6-gQyG-tjR",
        "outputId": "55ce4645-ef41-4618-cd9c-a88ea91e0d71"
      },
      "execution_count": null,
      "outputs": [
        {
          "output_type": "display_data",
          "data": {
            "text/html": [
              "\n",
              "  <style>\n",
              "    pre {\n",
              "        white-space: pre-wrap;\n",
              "    }\n",
              "  </style>\n",
              "  "
            ],
            "text/plain": [
              "<IPython.core.display.HTML object>"
            ]
          },
          "metadata": {}
        },
        {
          "output_type": "display_data",
          "data": {
            "text/html": [
              "\n",
              "  <style>\n",
              "    pre {\n",
              "        white-space: pre-wrap;\n",
              "    }\n",
              "  </style>\n",
              "  "
            ],
            "text/plain": [
              "<IPython.core.display.HTML object>"
            ]
          },
          "metadata": {}
        },
        {
          "output_type": "stream",
          "name": "stderr",
          "text": [
            "100%|██████████| 10/10 [00:23<00:00,  2.36s/it]\n"
          ]
        },
        {
          "output_type": "stream",
          "name": "stdout",
          "text": [
            "Frostbreath \n",
            " A strong wind howls around you in a 100-foot radius and moves with you, remaining centered on you. The wind lasts for the spell's duration or until you use your action to dismiss it.\n",
            "\n",
            "You can have the wind pushed against you (your choice), rolling with it as you move. If you do, each creature in the area must make a Constitution saving throw. A creature takes 2d10 bludgeoning damage on a failed save, or half as much damage on a successful one.\n",
            "\n",
            "A creature restrained by the wind is engulfed in frigid flames if it is not flying.\n",
            "level:  3\n",
            "school:  Evocation\n",
            "\n",
            "\n",
            "\n",
            "\n",
            "Frostbreath \n",
            " You freeze the air within a 15-foot cube you can see within range. Until the spell ends, freezing air in the cube moves at 50 feet per round for the duration. A creature in the cube must make a Dexterity saving throw. On a failed save, a creature takes 5d8 cold damage, or half as much damage on a successful save.\n",
            "level:  3\n",
            "school:  Evocation\n",
            "\n",
            "\n",
            "\n",
            "\n",
            "Frostbreath \n",
            " You exhale a blast of frigid air that deals 4d8 cold damage to one creature you can see within range. The target must make a Constitution saving throw. On a failed save, it takes 4d8 cold damage immediately, and it has disadvantage on the next weapon attack roll it makes before the end of its next turn.\n",
            "level:  8\n",
            "school:  Evocation\n",
            "\n",
            "\n",
            "\n",
            "\n",
            "Frostbreath \n",
            " Choose one creature you can see within range. The target must make a Constitution saving throw. On a failed save, it takes 2d6 cold damage, and it is made frigid for 1 minute. During this time, the target has disadvantage on Wisdom (Perception) checks and Wisdom (Survival) checks made to find food or water. During this time, the target also has disadvantage on attack rolls against creatures that aren't cold-blooded. While this spell is in effect, a frozen creature has disadvantage on Dexterity saving throws and Dexterity checks made to move. It also can't take reactions.\n",
            "level:  3\n",
            "school:  Transmutation\n",
            "\n",
            "\n",
            "\n",
            "\n",
            "Frostbreath \n",
            " You throw a piece or two of nonliving material at one creature that you can see within range. The target must make a Constitution saving throw. On a failed save, it takes 1d10 cold damage, and the spell ends. If the material is a club or similar weapon, it erupts in flame.\n",
            "\n",
            "-\n",
            "\n",
            "The spell's damage increases by 1d10 when you reach 5th level (2d10), 11th level (3d10), and 17th level (4d10).\n",
            "level:  0\n",
            "school:  Necromancy\n",
            "\n",
            "\n",
            "\n",
            "\n",
            "Frostbreath \n",
            " Choose up to six creatures in a 15-foot cone. Each target must make a Constitution saving throw. On a failed save, a target takes 3d6 cold damage and is engulfed in frigid air until the spell ends. A creature that ends its turn in the area takes 2d6 cold damage.\n",
            "\n",
            "If the spell's area includes an area of cold ground, that ground becomes difficult terrain until cleared.\n",
            "\n",
            "A creature must also make the saving throw when it enters the spell's area for the first time on a turn or ends its turn there. It takes 2d6 cold damage on a failed save, or half as much damage on a successful one.\n",
            "level:  6\n",
            "school:  Evocation\n",
            "\n",
            "\n",
            "\n",
            "\n",
            "Frostbreath \n",
            " The frozen ground in a 30-foot cube in range becomes difficult terrain until the spell ends. Until the spell ends, each creature in the area must make a Constitution saving throw. A creature takes 2d8 cold damage on a failed save, or half as much damage on a successful one. A creature is also restrained by the ice if it fails the save. A creature that fails the save against this damage can make a Constitution saving throw at the end of each of its turns.\n",
            "\n",
            "Until the spell ends, a creature restrained by the ice or under the effects of this spell must use its reaction before it can move on its own.\n",
            "level:  3\n",
            "school:  Transmutation\n",
            "\n",
            "\n",
            "\n",
            "\n",
            "Frostbreath \n",
            " You touch one creature. Until the spell ends, that creature takes 1d4 cold damage when you cast the spell, and the target has disadvantage on the first weapon attack roll it makes before the end of its next turn.\n",
            "level:  1\n",
            "school:  Evocation\n",
            "\n",
            "\n",
            "\n",
            "\n",
            "Frostbreath \n",
            " You exhale a freezing wind in a 15-foot radius centered on a point you can see within range. The wind lasts for the spell's duration, and it picks up speed if you are still within the spell's range.\n",
            "level:  2\n",
            "school:  Evocation\n",
            "\n",
            "\n",
            "\n",
            "\n",
            "Frostbreath \n",
            " You exhale a frigid blast of air that freezes one creature within 5 feet of you. The target must make a Constitution saving throw. On a failed save, it takes 4d6 cold damage, or half as much damage on a successful save. The spell's damage increases by 1d6 when you reach 5th level (2d6), 11th level (3d6), and 17th level (4d6).\n",
            "level:  0\n",
            "school:  Evocation\n",
            "\n",
            "\n",
            "\n",
            "\n",
            "[<Cell R7661C1 'Frostbreath '>, <Cell R7661C2 '3'>, <Cell R7661C3 'Evocation'>, <Cell R7661C4 \" A strong wind howls around you in a 100-foot radius and moves with you, remaining centered on you. The wind lasts for the spell's duration or until you use your action to dismiss it.\\n\\nYou can have the wind pushed against you (your choice), rolling with it as you move. If you do, each creature in the area must make a Constitution saving throw. A creature takes 2d10 bludgeoning damage on a failed save, or half as much damage on a successful one.\\n\\nA creature restrained by the wind is engulfed in frigid flames if it is not flying.\">, <Cell R7662C1 'Frostbreath '>, <Cell R7662C2 '3'>, <Cell R7662C3 'Evocation'>, <Cell R7662C4 ' You freeze the air within a 15-foot cube you can see within range. Until the spell ends, freezing air in the cube moves at 50 feet per round for the duration. A creature in the cube must make a Dexterity saving throw. On a failed save, a creature takes 5d8 cold damage, or half as much damage on a successful save.'>, <Cell R7663C1 'Frostbreath '>, <Cell R7663C2 '8'>, <Cell R7663C3 'Evocation'>, <Cell R7663C4 ' You exhale a blast of frigid air that deals 4d8 cold damage to one creature you can see within range. The target must make a Constitution saving throw. On a failed save, it takes 4d8 cold damage immediately, and it has disadvantage on the next weapon attack roll it makes before the end of its next turn.'>, <Cell R7664C1 'Frostbreath '>, <Cell R7664C2 '3'>, <Cell R7664C3 'Transmutation'>, <Cell R7664C4 \" Choose one creature you can see within range. The target must make a Constitution saving throw. On a failed save, it takes 2d6 cold damage, and it is made frigid for 1 minute. During this time, the target has disadvantage on Wisdom (Perception) checks and Wisdom (Survival) checks made to find food or water. During this time, the target also has disadvantage on attack rolls against creatures that aren't cold-blooded. While this spell is in effect, a frozen creature has disadvantage on Dexterity saving throws and Dexterity checks made to move. It also can't take reactions.\">, <Cell R7665C1 'Frostbreath '>, <Cell R7665C2 '0'>, <Cell R7665C3 'Necromancy'>, <Cell R7665C4 \" You throw a piece or two of nonliving material at one creature that you can see within range. The target must make a Constitution saving throw. On a failed save, it takes 1d10 cold damage, and the spell ends. If the material is a club or similar weapon, it erupts in flame.\\n\\n-\\n\\nThe spell's damage increases by 1d10 when you reach 5th level (2d10), 11th level (3d10), and 17th level (4d10).\">, <Cell R7666C1 'Frostbreath '>, <Cell R7666C2 '6'>, <Cell R7666C3 'Evocation'>, <Cell R7666C4 \" Choose up to six creatures in a 15-foot cone. Each target must make a Constitution saving throw. On a failed save, a target takes 3d6 cold damage and is engulfed in frigid air until the spell ends. A creature that ends its turn in the area takes 2d6 cold damage.\\n\\nIf the spell's area includes an area of cold ground, that ground becomes difficult terrain until cleared.\\n\\nA creature must also make the saving throw when it enters the spell's area for the first time on a turn or ends its turn there. It takes 2d6 cold damage on a failed save, or half as much damage on a successful one.\">, <Cell R7667C1 'Frostbreath '>, <Cell R7667C2 '3'>, <Cell R7667C3 'Transmutation'>, <Cell R7667C4 ' The frozen ground in a 30-foot cube in range becomes difficult terrain until the spell ends. Until the spell ends, each creature in the area must make a Constitution saving throw. A creature takes 2d8 cold damage on a failed save, or half as much damage on a successful one. A creature is also restrained by the ice if it fails the save. A creature that fails the save against this damage can make a Constitution saving throw at the end of each of its turns.\\n\\nUntil the spell ends, a creature restrained by the ice or under the effects of this spell must use its reaction before it can move on its own.'>, <Cell R7668C1 'Frostbreath '>, <Cell R7668C2 '1'>, <Cell R7668C3 'Evocation'>, <Cell R7668C4 ' You touch one creature. Until the spell ends, that creature takes 1d4 cold damage when you cast the spell, and the target has disadvantage on the first weapon attack roll it makes before the end of its next turn.'>, <Cell R7669C1 'Frostbreath '>, <Cell R7669C2 '2'>, <Cell R7669C3 'Evocation'>, <Cell R7669C4 \" You exhale a freezing wind in a 15-foot radius centered on a point you can see within range. The wind lasts for the spell's duration, and it picks up speed if you are still within the spell's range.\">]\n"
          ]
        }
      ]
    }
  ]
}